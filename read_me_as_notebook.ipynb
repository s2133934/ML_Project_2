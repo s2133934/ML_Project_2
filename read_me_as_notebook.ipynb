{
  "cells": [
    {
      "cell_type": "markdown",
      "source": "# Machine Learning in Python - Project 2\n\nDue Friday, April 9th by 5 pm (UK local time)\n\n## Data\n\nFor this assignment we will be using data collected by [Antonio, Almeida and Nunes, 2019](https://www.sciencedirect.com/science/article/pii/S2352340918315191#f0010) on hotel bookings. These data come from the booking systems of two real hotels and reflect bookings made between July 1st, 2015 through August 31st 2017. This is a large dataset (119,390 observations) and real world (i.e. messy) data set,  care will be needed to check for and to address underlying data quality issues.\n\nThe data set contains the following variables:\n\n|variable                       |description |\n|:------------------------------|:-----------|\n|is_canceled                    | Value indicating if the booking was canceled (1) or not (0) |\n|hotel                          | Hotel (`Resort Hotel` or `City Hotel`) |\n|lead_time                      | Number of days that elapsed between the entering date of the booking into the PMS and the arrival date |\n|arrival_date_year              | Year of arrival date|\n|arrival_date_month             | Month of arrival date|\n|arrival_date_week_number       | Week number of year for arrival date|\n|arrival_date_day_of_month      | Day of arrival date|\n|stays_in_weekend_nights        | Number of weekend nights (Saturday or Sunday) the guest stayed or booked to stay at the hotel |\n|stays_in_week_nights           | Number of week nights (Monday to Friday) the guest stayed or booked to stay at the hotel|\n|adults                         | Number of adults|\n|children                       | Number of children|\n|babies                         | Number of babies |\n|meal                           | Type of meal booked. Categories are presented in standard hospitality meal packages: <br> `Undefined`/`SC` – no meal package;<br>`BB` – Bed & Breakfast; <br> `HB` – Half board (breakfast and one other meal – usually dinner); <br> `FB` – Full board (breakfast, lunch and dinner) |\n|country                        | Country of origin. Categories are represented in the ISO 3155–3:2013 format |\n|market_segment                 | Market segment designation. In categories, the term `TA` means “Travel Agents” and `TO` means “Tour Operators” |\n|distribution_channel           | Booking distribution channel. The term `TA` means “Travel Agents” and `TO` means “Tour Operators” |\n|is_repeated_guest              | Value indicating if the booking name was from a repeated guest (`1`) or not (`0`) |\n|previous_cancellations         | Number of previous bookings that were cancelled by the customer prior to the current booking |\n|previous_bookings_not_canceled | Number of previous bookings not cancelled by the customer prior to the current booking |\n|reserved_room_type             | Code of room type reserved. Code is presented instead of designation for anonymity reasons |\n|assigned_room_type             | Code for the type of room assigned to the booking. Sometimes the assigned room type differs from the reserved room type due to hotel operation reasons (e.g. overbooking) or by customer request. Code is presented instead of designation for anonymity reasons |\n|booking_changes                | Number of changes/amendments made to the booking from the moment the booking was entered on the PMS until the moment of check-in or cancellation|\n|deposit_type                   | Indication on if the customer made a deposit to guarantee the booking. This variable can assume three categories:<br>`No Deposit` – no deposit was made;<br>`Non Refund` – a deposit was made in the value of the total stay cost;<br>`Refundable` – a deposit was made with a value under the total cost of stay. |\n|agent                          | ID of the travel agency that made the booking |\n|company                        | ID of the company/entity that made the booking or responsible for paying the booking. ID is presented instead of designation for anonymity reasons |\n|days_in_waiting_list           | Number of days the booking was in the waiting list before it was confirmed to the customer |\n|customer_type                  | Type of booking, assuming one of four categories:<br>`Contract` - when the booking has an allotment or other type of contract associated to it;<br>`Group` – when the booking is associated to a group;<br>`Transient` – when the booking is not part of a group or contract, and is not associated to other transient booking;<br>`Transient-party` – when the booking is transient, but is associated to at least other transient booking|\n|adr                            | Average Daily Rate as defined by dividing the sum of all lodging transactions by the total number of staying nights |\n|required_car_parking_spaces    | Number of car parking spaces required by the customer |\n|total_of_special_requests      | Number of special requests made by the customer (e.g. twin bed or high floor)|\n\n\n\n## Assignment\n\nFor the purposes of the project, consider yourself a Data Scientist who has been hired by a large hotel operator who has provided these data in the hope of better understanding why customers cancel their reservations. The two hotels present in the data are individual representative examples of their resort and city properties. Using these data they would like you to construct a predictive model that can accurately predict when a booking will be canceled. In this case they are primarily interested in the accuracy of the model but they are also intested in understanding what aspects of a booking affect the likelihood of it being canceled.\n\nAs such, you need to develop an *understandable* *validated* model for the `is_canceled` variable as the outcome of interest using features derived from the data. As before it is important that this model be accurate **and** reliable and any conclusions you draw well supported. We explicitly do not want a blackbox model - you should be able to explain and justify your modeling choices and your model's predictions.\n\nYour model may use as few or as many of the provided features, and you may transform and manipulate these features in any way that you want to generate additional features. Also note as these data are directly derived from the hotels' booking system there is the possibility of incorrect / unreasonable data being present - performing basic sanity checks and validation on the features is strongly recommended as part of your exploratory data analysis. You are welcome to exclude as much or as little of the data as you would like, but these choices should be clearly justified in your text.\n\nWe have covered a number of models and modeling approaches in the lectures and workshops and you should explore a variety of different approaches for this particular task. However, your ultimate goal is to deliver a **single** model. These are competing interests and it is up to you to find a reasonable balance between the two - some of your marks will be based on how well you accomplish this.\n\n\n### Client Requirements\n\nYour report (in the discussion section) must include the following:\n\n* Some discussion of the features that are most important for predicting a cancelation - we do not need discussion of specific coefficient values but direction of the effect should be clear (e.g. the earlier a booking is made the more likely it is to be canceled).\n\n* A validated assessment of your model's performance, but this must be specifically discussed in the context of bookings and running a hotel. It is not sufficient to report summary statistics like the accuracy or AUC - you must address the perfomance in terms of potential gains and losses for the hotel (e.g. think about what happens if your model predicts a cancelation that does not actually occur and a room ends up being double booked or vice versa). Explain why you think your particular model would or would not be economically viable.\n\n\n## Required Structure & Formatting\n\nWe have provided a templated Jupyter notebook called `proj2.ipynb` which includes the required sections along with brief instructions on what should be included in each section. Your completed assignment must follow this structure - you should not add or remove any of these sections, if you feel it is necessary you may add addition subsections within each. Please remove the instructions for each section in the final document.\n\nAll of your work must be contained in the `proj2.ipynb` notebook, we will only mark what is included in this file.\n\nOur expectation is that most projects will be roughly 10-15 pages in length (text & figures, excluding code). Your notebook must include all of your work, but make sure that you are only retaining required components, e.g. remove unused code and figures (if a figure is not explicitly discussed in the text it should not be in the final document).\n\nOverall, your project will be partially assessed on your organization / presentation of the document - it should be as polished and streamlined as possible. We highly recommend that you check the appearance of your rendered PDF before submitting, as its appearance can differ significantly from the notebook.\n\n## Group work\n\nThis project may be completed by a team of up to 4 students. We will not be assigning or forming teams, if you are a team that is looking for more members or someone looking for a team please use the pinned post on Piazza to find each other.\n\nAfter the assignment is completed we will distribute a brief peer evaluation survey - members who contributed significantly less than their peers will potentially have their overall mark penalized.\n\n## Submission\n\nThis project is due Friday, April 9th by 5 pm (UK local time). You are expected to submit your completed work as follows:\n\n* Submit a PDF of your report (generated from a Jupyter notebook) to the Project 1 assignment on Gradescope.\n\n* Submit your `ipynb` notebook file and any supplementary data and script files to the Project 1 assignment on Learn.\n\nBoth submission steps are necessary for your work to be considered submitted. Standard late penalties will apply if either piece is not submitted by the deadline.\n\nFor a team submission - all contributors should be added to the assignment. Only one team member needs to submit the ipynb notebook on Learn.\n\n\n\n## Marking Rubric\n\nThe project will be marked out of 100, and we will be using the following rubric to roughly guide the marking:\n\n* **>90**: The code runs without errors. Models are implemented, fit, and assessed correctly. The final model achieves a high level of predictive accuracy and is well documented and described in the writeup. There is significant and creative additional investigation of the problem including the use of addition data sources for features. Potentially could be used as a model answer. Write-up evidences deep understanding of the data and the model(s).\n\n* **80-89**: The code runs without errors. Models are implemented, fit, and assessed correctly. The write up is generally good and the code is appropriately commented. The final model achieves a reasonable level of predictive accuracy and is well documented and described in the writeup. There is moderate additional investigation of the problem. Write-up evidences good understanding of the data and the model(s).\n\n* **70-79**: The code runs without errors. Models are implemented, fit, and assessed correctly with only minor issues. The write-up is reasonable but could be better. Write-up evidences adequate understanding of the data and the model(s).\n\n* **60-69**: The code runs without errors. Models are implemented, fit, and assessed correctly with only moderate issues. The write-up is ok but could be better, includes some moderate errors or omissions. Write-up evidences adequate understanding of the data and the model(s).\n\n* **50-59**: The code runs with some errors. Models are implemented, fit, and assessed but with some significant issues in implementation and or understanding. The write-up is marginal and includes some significant errors or omissions. Write-up evidences an incomplete understanding of the data and the model(s).\n\n* **<49**: Significant issues with the code, model(s), and/or the write up. Write-up evidences an incomplete understanding of the data and the model(s).\n\nUsing these criteria, specific rubrics will be used to assess each of the 4 required sections of the project.\n",
      "metadata": {
        "tags": [],
        "cell_id": "00001-89d8b518-3ff5-4371-a484-5bd6e04889bf",
        "deepnote_cell_type": "markdown"
      }
    },
    {
      "cell_type": "markdown",
      "source": "",
      "metadata": {
        "tags": [],
        "cell_id": "00001-c22d91f8-cb17-4390-9546-3894b0640c3f",
        "deepnote_cell_type": "markdown"
      }
    },
    {
      "cell_type": "code",
      "metadata": {
        "tags": [],
        "cell_id": "00002-db45b0d1-a1ab-45d6-bed9-eaecf53b9f1f",
        "deepnote_cell_type": "code"
      },
      "source": "# Join to main Dataframe\ncoords_cut = coords[['country','distance(km)']]\ncoords_cut.columns = ['ISO3166-1-Alpha-2','distance(km)']\nd = pd.merge(d,coords_cut ,on='ISO3166-1-Alpha-2', how = 'left')",
      "execution_count": null,
      "outputs": []
    },
    {
      "cell_type": "code",
      "metadata": {
        "tags": [],
        "cell_id": "00003-a9d957c0-04e3-4efc-90fb-54581a4a10dd",
        "deepnote_cell_type": "code"
      },
      "source": "",
      "execution_count": null,
      "outputs": []
    },
    {
      "cell_type": "markdown",
      "source": "Some maybe useful nuggets about linreg: \n\nhttps://towardsdatascience.com/the-basics-logistic-regression-and-regularization-828b0d2d206c \n\nlinear regression models don’t perform their own implicit feature selection, meaning they are prone to overfit if too many features are included",
      "metadata": {
        "tags": [],
        "cell_id": "00004-7575e44a-41d5-4352-9285-e4c6ff339d7c",
        "deepnote_cell_type": "markdown"
      }
    },
    {
      "cell_type": "code",
      "metadata": {
        "tags": [],
        "cell_id": "00005-3edef489-796e-42cc-8863-30f8483c06f3",
        "deepnote_to_be_reexecuted": false,
        "source_hash": "32d20fe5",
        "execution_start": 1618101948738,
        "execution_millis": 1926,
        "deepnote_cell_type": "code"
      },
      "source": "# https://scikit-learn.org/stable/auto_examples/linear_model/plot_logistic_path.html \n# Author: Alexandre Gramfort <alexandre.gramfort@inria.fr>\n# License: BSD 3 clause\n\nfrom time import time\nimport numpy as np\nimport matplotlib.pyplot as plt\n\nfrom sklearn import linear_model\nfrom sklearn import datasets\nfrom sklearn.svm import l1_min_c\n\niris = datasets.load_iris()\nX = iris.data\ny = iris.target\n\nX = X[y != 2]\ny = y[y != 2]\n\nX /= X.max()  # Normalize X to speed-up convergence\n\n# #############################################################################\n# Demo path functions\n\ncs = l1_min_c(X, y, loss='log') * np.logspace(0, 7, 16)\n\n\nprint(\"Computing regularization path ...\")\nstart = time()\nclf = linear_model.LogisticRegression(penalty='l1', solver='liblinear',\n                                      tol=1e-6, max_iter=int(1e6),\n                                      warm_start=True,\n                                      intercept_scaling=10000.)\ncoefs_ = []\nfor c in cs:\n    clf.set_params(C=c)\n    clf.fit(X, y)\n    coefs_.append(clf.coef_.ravel().copy())\nprint(\"This took %0.3fs\" % (time() - start))\n\ncoefs_ = np.array(coefs_)\nplt.plot(np.log10(cs), coefs_, marker='o')\nymin, ymax = plt.ylim()\nplt.xlabel('log(C)')\nplt.ylabel('Coefficients')\nplt.title('Logistic Regression Path')\nplt.axis('tight')\nplt.show()",
      "execution_count": null,
      "outputs": [
        {
          "name": "stdout",
          "text": "Automatically created module for IPython interactive environment\nComputing regularization path ...\nThis took 0.045s\n",
          "output_type": "stream"
        },
        {
          "data": {
            "text/plain": "<Figure size 432x288 with 1 Axes>",
            "image/png": "[encoded data removed]"
          },
          "metadata": {
            "needs_background": "light"
          },
          "output_type": "display_data"
        }
      ]
    },
    {
      "cell_type": "code",
      "metadata": {
        "tags": [],
        "cell_id": "00006-a32f4783-dc80-4734-8ef0-c9655a074ce7",
        "deepnote_to_be_reexecuted": false,
        "source_hash": "3efe427e",
        "execution_start": 1618102014026,
        "execution_millis": 9,
        "deepnote_cell_type": "code"
      },
      "source": "cs",
      "execution_count": null,
      "outputs": [
        {
          "output_type": "execute_result",
          "execution_count": 2,
          "data": {
            "text/plain": "array([1.00071480e-01, 2.93073795e-01, 8.58308976e-01, 2.51368192e+00,\n       7.36168089e+00, 2.15597467e+01, 6.31408350e+01, 1.84917063e+02,\n       5.41556353e+02, 1.58602607e+03, 4.64490662e+03, 1.36032805e+04,\n       3.98391736e+04, 1.16674779e+05, 3.41698958e+05, 1.00071480e+06])"
          },
          "metadata": {}
        }
      ]
    },
    {
      "cell_type": "code",
      "metadata": {
        "tags": [],
        "cell_id": "00007-21913357-80a8-436a-9849-85592c1dc7d5",
        "deepnote_to_be_reexecuted": false,
        "source_hash": "79bd056d",
        "execution_millis": 886,
        "execution_start": 1618102666651,
        "deepnote_cell_type": "code"
      },
      "source": "from sklearn.datasets import load_digits\ndigits = load_digits()\n# Print to show there are 1797 images (8 by 8 images for a dimensionality of 64)\nprint('Image Data Shape' , digits.data.shape)\n# Print to show there are 1797 labels (integers from 0–9)\nprint(\"Label Data Shape\", digits.target.shape)\n\nimport numpy as np \nimport matplotlib.pyplot as plt\nplt.figure(figsize=(20,4))\nfor index, (image, label) in enumerate(zip(digits.data[0:5], digits.target[0:5])):\n plt.subplot(1, 5, index + 1)\n plt.imshow(np.reshape(image, (8,8)), cmap=plt.cm.gray)\n plt.title('Training: %i\\n' % label, fontsize = 20)\n from sklearn.model_selection import train_test_split\nx_train, x_test, y_train, y_test = train_test_split(digits.data, digits.target, test_size=0.25, random_state=0)\n\n\nfrom sklearn.linear_model import LogisticRegression\n# all parameters not specified are set to their defaults\nlogisticRegr = LogisticRegression()",
      "execution_count": null,
      "outputs": [
        {
          "name": "stdout",
          "text": "Image Data Shape (1797, 64)\nLabel Data Shape (1797,)\n",
          "output_type": "stream"
        },
        {
          "data": {
            "text/plain": "<Figure size 1440x288 with 5 Axes>",
            "image/png": "[encoded data removed]"
          },
          "metadata": {
            "needs_background": "light"
          },
          "output_type": "display_data"
        }
      ]
    },
    {
      "cell_type": "code",
      "metadata": {
        "tags": [],
        "cell_id": "00008-29ce02ea-ed40-4222-8642-d8c34c9db7f6",
        "deepnote_to_be_reexecuted": false,
        "source_hash": "d3a3ef23",
        "execution_start": 1618102670682,
        "execution_millis": 1081,
        "deepnote_cell_type": "code"
      },
      "source": "logisticRegr.fit(x_train, y_train)\npipe = make_pipeline(StandardScaler(), LogisticRegression())\n",
      "execution_count": null,
      "outputs": [
        {
          "name": "stderr",
          "text": "/shared-libs/python3.7/py/lib/python3.7/site-packages/sklearn/linear_model/_logistic.py:765: ConvergenceWarning: lbfgs failed to converge (status=1):\nSTOP: TOTAL NO. of ITERATIONS REACHED LIMIT.\n\nIncrease the number of iterations (max_iter) or scale the data as shown in:\n    https://scikit-learn.org/stable/modules/preprocessing.html\nPlease also refer to the documentation for alternative solver options:\n    https://scikit-learn.org/stable/modules/linear_model.html#logistic-regression\n  extra_warning_msg=_LOGISTIC_SOLVER_CONVERGENCE_MSG)\n",
          "output_type": "stream"
        },
        {
          "output_type": "execute_result",
          "execution_count": 12,
          "data": {
            "text/plain": "LogisticRegression()"
          },
          "metadata": {}
        }
      ]
    },
    {
      "cell_type": "code",
      "metadata": {
        "tags": [],
        "cell_id": "00009-5c7e6038-8f75-438b-9072-5435d7a9f28d",
        "deepnote_to_be_reexecuted": false,
        "source_hash": "efd674df",
        "execution_start": 1618102703144,
        "execution_millis": 7,
        "deepnote_cell_type": "code"
      },
      "source": "# Returns a NumPy Array\n# Predict for One Observation (image)\nlogisticRegr.predict(x_test[0].reshape(1,-1))",
      "execution_count": null,
      "outputs": [
        {
          "output_type": "execute_result",
          "execution_count": 13,
          "data": {
            "text/plain": "array([2])"
          },
          "metadata": {}
        }
      ]
    },
    {
      "cell_type": "code",
      "metadata": {
        "tags": [],
        "cell_id": "00010-ea25d3f5-99a4-4431-827d-bad69568286f",
        "deepnote_to_be_reexecuted": false,
        "source_hash": "a92d7eb9",
        "execution_millis": 5,
        "execution_start": 1618149073814,
        "deepnote_cell_type": "code"
      },
      "source": "from sklearn.svm import SVR\nfrom sklearn.pipeline import make_pipeline\nfrom sklearn.preprocessing import StandardScaler\nimport numpy as np\nn_samples, n_features = 10, 5\nrng = np.random.RandomState(0)\ny = rng.randn(n_samples)\nX = rng.randn(n_samples, n_features)\nregr = make_pipeline(StandardScaler(), SVR(C=1.0, epsilon=0.2))\nregr.fit(X, y) \n\n# regr.coef_",
      "execution_count": null,
      "outputs": [
        {
          "output_type": "execute_result",
          "execution_count": 8,
          "data": {
            "text/plain": "Pipeline(steps=[('standardscaler', StandardScaler()),\n                ('svr', SVR(epsilon=0.2))])"
          },
          "metadata": {}
        }
      ]
    },
    {
      "cell_type": "code",
      "metadata": {
        "tags": [],
        "cell_id": "00011-55201f80-b00c-4931-9915-f27f34dfb858",
        "deepnote_cell_type": "code"
      },
      "source": "booking_means\nfig = px.sunburst(booking_means,\n                    path = ['market_segment',\"company\", \"agent\",],values = 'Total Booking/Cancelation',\n                    title = 'Sources of hotel booking', width = 700 , height= 700)\n# fig.show()     \n\n\n#replace company/agent values with 0 to represent no agent/company was used when booking. \n#d['company'].fillna('0',inplace=True)\n#d['agent'].fillna('0',inplace=True)\n#nan children will be zero children \nd['children'].fillna('0',inplace=True)\n#Replace nan country with PRT (Portugal)\nd['country'].fillna('PRT',inplace=True)\n#Create direct booking flag\nd['direct_booking'] = np.where(((d.distribution_channel == 'Direct')), 1, 0)\n\n# The China 3 character code is incorrect - this needs changed from CN to CNH\nd['country'].replace('CN', 'CHN',inplace=True)\n\n# Confirming there are no nans in a column\n# for i in range(len(d['country'])):\n#     list_idx = [list_idx.append(d.index) for i in range(len(d['country'])) if d['country'][i] == np.nan]\n# list_idx",
      "execution_count": null,
      "outputs": []
    },
    {
      "cell_type": "markdown",
      "source": "## Brief for feature engineering\n\n*Include a detailed discussion of the data with a particular emphasis on the features of the data that are relevant for the subsequent modeling. Including visualizations of the data is strongly encouraged - all code and plots must also be described in the write up. Think carefully about whether each plot needs to be included in your final draft - your report should include figures but they should be as focused and impactful as possible.*\n\n*Additionally, this section should also implement and describe any preprocessing / feature engineering of the data. Specifically, this should be any code that you use to generate new columns in the data frame `d`. All of this processing is explicitly meant to occur before we split the data in to training and testing subsets. Processing that will be performed as part of an sklearn pipeline can be mentioned here but should be implemented in the following section.*\n\n*All code and figures should be accompanied by text that provides an overview / context to what is being done or presented.*",
      "metadata": {
        "tags": [],
        "cell_id": "00013-eab0ad4f-2b6d-4bed-9ffd-1ce425847cd3",
        "deepnote_cell_type": "markdown"
      }
    },
    {
      "cell_type": "markdown",
      "source": "This is showing that as our threshold increases, our fpr is decreasing - this means that we need to have a threshold of around 0.7 which seems awfully high, so on the basis that we need to reduce the false positives (double bookings), we must predict that 70% of our data hasnt cancelled? Is that what this means? Is this meaningful at all? \n\nN: a threshold of 0.7 does not necessarily mean that 70% of the observations will be labeled as 0. Is that what you were saying? .. R: its the level above which we predict a '1', but level of what? probability its a 1? so if its 70% likely to be a 1, its a 1?\n\nN: a threhsold of 0.7 means that an pbservation with a probability of 0.71 will be labeled as 1 but one with a probability of 0.69 will be labeled as 0. But observations are not uniformly distributed in [0,1], so the proportions of 0s and 1s are not related to the threshold necessarily.  R: so its not necessarily a super bad thing?\n\nN: a threshold of 0.7? nope ... R: that feels counterintuitive somehow but yeah I think i got it.... well a bit at least... \n\nN: it would be interesting to plot a histogram of predicted probabilities either in the train or test set to see how skewed they are. Also the imbalance between how mane 0s and 1s are there in the training set might be important, if the imbalance is large, that could degrade the model quality.\n\nR: ahhhh hang on.. look up... its 67% 0s and 39% 1s (just a quick value counts on)\n\nN: ahh ok i think that's not terrible. Still, if you want to be super proper about it, you can run the logistic regression weighting examples by their label so that in principla the inbalance vanishes. But It's not super critical in this case I think.\n\nR: no i think we wont, but good to know... im not sure what do do with all this information as yet though... need to be brief but i think its important.\n\nN: I included a plot of predicted probs in the test set just out of curiosity (right above). Looks weird haha, and you would maybe exclude a lot with a thr. of 0.7, but still that is not a problem in itself. --> why not a problem? that sounds like it should be bad? We need to over predict cancellations as opposed to under so\n\nN: I guess it depends on what you are asked to do. And I mean really specifying a metric to optimise, so if you really want to just minimize the fpr or whatever, then it wouldn't be a problem \n\nR: I dont think we need to be super complex about it, but the brief did say... cant find it, but there was chat about how we need to bear in mind the 'consequences' business wise for model selection as well as overall performance, so we do need to 'tune' it to some degree for sure...\n\nN: I see, if you find the paragraph paste it here haha, i feel its unfair to tell you to magically do that without specifying more. The way you usually account for business metrics is a) you maximize/minimize something, plain and simple, or b) you maximize/minimize soemthing, subject to some other metric being above/below X. If you can do one of those here i think you're good.\n\nR: will this information generalise to other models, i.e. can i apply this sort of reasoning to the random trees? i.e. the roc curve, the balancing, etc etc.. ? \n\nN: oh yes.\n\n\nR:\n\nClient Requirements\nYour report (in the discussion section) must include the following:\n\nA validated assessment of your model's performance, but this must be specifically discussed in the context of bookings and running a hotel. ** It is not sufficient to report summary statistics like the accuracy or AUC - you must address the perfomance in terms of potential gains and losses for the hotel (e.g. think about what happens if your model predicts a cancelation that does not actually occur and a room ends up being double booked or vice versa)**. Explain why you think your particular model would or would not be economically viable.\n\n\n--> and not forgetting that we arent actually using the logisic i dont think, we need to put this onto the others.\n\nN: given that they don't give you concrete numbers, do you think it would be acceptble just for the sake of making an argument to assign costs to error types? say 0.5 for predicting \"not cancelled\" and getting a cancellation (because maybe the room is still used by someone else in the end), and 1.5 for predicting \"cancelled\" and not getting a cancellation, because in that case you basically lose a customer, whose present value can be say 1.5 bookings or something like that. And maybe saying that the actual costs can be adapted to real business metrics when available.\n\nR: I dont think thats a bad idea, how do you justify the 1, 1.5, just educated guesses, i e. one is three times as bad as the other as you lose business, and reputation, and it costs money as i bet there is a law saying you have to find an alternative for people?\n\nN: exactly, something like that. Yes it's like a rough approximation given that the don't give actual business numbers... cool beans.\n",
      "metadata": {
        "tags": [],
        "cell_id": "00013-5e4cd07f-967f-404d-b2f7-9494d54fffb0",
        "deepnote_cell_type": "markdown"
      }
    },
    {
      "cell_type": "code",
      "metadata": {
        "tags": [],
        "cell_id": "00014-eb84c2da-49de-4810-94b5-25a0c8095785",
        "deepnote_cell_type": "code"
      },
      "source": "#Which feature numbers are far enough away from 0\nidx_above_threshold = np.argwhere(np.abs(importance_logreg) > Tolerance)\n# idx_above_threshold",
      "execution_count": null,
      "outputs": []
    },
    {
      "cell_type": "code",
      "source": "# # Violin plot as we have LOTS of datapoints - lead times\n\n# # Create a sub dataframe of the things we want (so i can log some)\n# vars_of_interest=['lead_time','babies','children']\n# # sub_d_samp = pd.merge(d_samp[['is_canceled','hotel']], d_samp[vars_of_interest], on = d_samp.index)\n# # sub_d_samp['log_lead_time'] = np.log(sub_d_samp.lead_time)\n# # Children field is some messed up type so cast as int here\n# # sub_d_samp['children'] = sub_d_samp['children'].astype(int) \n\n# # #append any logged columns to sub_dataframe - AGH ERRORS. Fuck this.\n# # vars_of_interest.append('log_lead_time')\n# # sub_d_samp[sub_d_samp['log_lead_time'] < 0] = 1E-6\n# # # sub_d_samp.iloc[6]\n# # type(sub_d_samp['log_lead_time'][0])\n# # min(sub_d_samp['log_lead_time'])\n\n# #Plot for all variables in list - cant do subplots??\n# for violin_var in vars_of_interest:\n#     g = sns.catplot(x = \"is_canceled\", y = violin_var, data = sub_d_samp, split = True, hue = 'hotel', kind = \"violin\", scale = 'area')\n#     g.set_title(f'Variable: {violin_var}')\n",
      "metadata": {
        "tags": [],
        "cell_id": "00015-5d8031a3-52ac-42e3-b5d1-915a7025d733",
        "deepnote_cell_type": "code"
      },
      "outputs": [],
      "execution_count": null
    },
    {
      "cell_type": "code",
      "source": "# Check any columns have nan values\nprint(d.isna().any())\nd.columns",
      "metadata": {
        "tags": [],
        "cell_id": "00016-de511b11-134a-4e79-8285-e0f0e06a12da",
        "deepnote_cell_type": "code"
      },
      "outputs": [],
      "execution_count": null
    },
    {
      "cell_type": "markdown",
      "source": "\nArticle used to help understanding: [https://towardsdatascience.com/demystifying-roc-curves-df809474529a, http://gim.unmc.edu/dxtests/]",
      "metadata": {
        "tags": [],
        "cell_id": "00018-cc11f1b7-71dd-40dc-89bb-a682fad8dc73",
        "deepnote_cell_type": "markdown"
      }
    },
    {
      "cell_type": "code",
      "source": "# Only for Decision trees - taken directly from workshop materials.\n# Credit D. Elliott, UoE.\nimport matplotlib\ndef fig2str(fig, format='svg'):\n    \"\"\"\n    Return a string containing the raw data of the matplotlib figure in the given format.\n\n    \"\"\"\n    assert isinstance(fig, matplotlib.figure.Figure)\n    imgdata = BytesIO()\n    fig.savefig(imgdata, format=format, bbox_inches='tight')\n    imgdata.seek(0)  # rewind the data\n    output = imgdata.getvalue()\n    if format == 'svg':\n        return output\n    else:\n        return urllib.parse.quote(base64.b64encode(output))\n\nclass MatplotlibFigure(object):\n    \"\"\"\n    Thin wrapper around a matplotlib figure which provides a custom\n    HTML representation that allows tweaking the appearance\n\n    \"\"\"\n    def __init__(self, fig, centered=False):\n        assert isinstance(fig, matplotlib.figure.Figure)\n        self.centered = centered\n\n    def _repr_html_(self):\n        img_str_png = fig2str(fig, format='png')\n        uri = 'data:image/png;base64,' + img_str_png\n        html_repr = \"<img src='{}'>\".format(uri)\n        if self.centered:\n            html_repr = \"<center>\" + html_repr + \"</center>\"\n        return html_repr",
      "metadata": {
        "tags": [],
        "cell_id": "00018-ed77d75d-229a-45b8-9165-75bb8a9696e1",
        "deepnote_cell_type": "code"
      },
      "outputs": [],
      "execution_count": null
    },
    {
      "cell_type": "code",
      "source": "# Logistic results\nY_hat_logreg = logreg_model.predict(X_test)\n#confusion_matrix(Y_hat_logreg,y_test)\n\nimportance_logreg = logreg_model.best_estimator_.steps[1][1].coef_[0]\ncoefficients_dict = dict(zip(X.columns, importance_logreg))\n# Now inspect the final model\nfinal_model = logreg_model.best_estimator_\n\n#print(\"Best params:\",logreg_model.best_params_,'\\n')\n#print(\"Training accuracy for Logistic Reg: %f\" % logreg_model.score(X_train , y_train))\n#print(\"Testing  accuracy for Logistic Reg: %f\" % logreg_model.score(X_test  , y_test ))\nprint(\"accuracy:\",logreg_model.best_score_,'\\n')\n\n# View the accuracy score\nprint('_____ GridSearchCV Logistic Regression Model Results_____')\nprint(\"Best Logistic Regression params: \", logreg_model.best_params_)\nprint(\"Training set score for Logisitic Regression: %f\" % logreg_model.score(X_train , y_train))\nprint(\"Testing  set score for Logisitic Regression: %f\" % logreg_model.score(X_test  , y_test ))\n\n#Y_pred_svm = models_tree_random.predict(X_test)\nprint('_____ Final Logistic Regression Model Results_____')\nprint('_____ Confusion Matrix_____ : \\n',confusion_matrix(Y_hat_logreg,y_test))\nprint('_____ Classification Report_____ : \\n',classification_report(y_test,Y_hat_logreg))\n\nprint('Coefficients for each feature are: \\n')\nprobs = logreg_model.predict_proba(X_test)\ncoefficients_dict\n\nprint('% False positive for no cancellation',round(confusion_matrix(Y_hat_logreg,y_test)[0,1]/ sum(confusion_matrix(Y_hat_logreg,y_test)[0,:]),5)*100)\nprint('% False positive for cancellation',round(confusion_matrix(Y_hat_logreg,y_test)[1,0]/ sum(confusion_matrix(Y_hat_logreg,y_test)[1,:]),5)*100)\n",
      "metadata": {
        "tags": [],
        "cell_id": "00019-42bc6f17-0068-429c-a94d-4b801199c652",
        "deepnote_cell_type": "code"
      },
      "outputs": [],
      "execution_count": null
    },
    {
      "cell_type": "code",
      "source": "importance_logreg = logreg_model.best_estimator_.steps[1][1].coef_[0]\nlogreg_Coefs = plot_feature_weights(importance_logreg, Tolerance = 0.15, plot = True)",
      "metadata": {
        "tags": [],
        "cell_id": "00020-0deb7106-743a-4142-837f-1e9dbd1bb82d",
        "deepnote_cell_type": "code"
      },
      "outputs": [],
      "execution_count": null
    },
    {
      "cell_type": "code",
      "source": "# This transformation is necessary so that seaborn behaves correctly when plotting the data horizontally\nprobs_logreg = logreg_model.predict_proba(X)[:,1]\n#Call function for confusion plot\nconf_matrix = confusion_plot(truth, probs_logreg, threshold=0.5, plot=True)\ntp, fp, fn, tn = conf_matrix[0][0], conf_matrix[0][1], conf_matrix[1][0], conf_matrix[1][1]\nprint(f'tp: {tp}, fp: {fp}, fn: {fn}, tn: {tn}')\nconf_matrix",
      "metadata": {
        "tags": [],
        "cell_id": "00021-9d9fbdb3-e772-4e2a-ad43-c53b2efbe0e4",
        "deepnote_cell_type": "code"
      },
      "outputs": [],
      "execution_count": null
    },
    {
      "cell_type": "code",
      "source": "How do the tp, fp, tn, fn vary with the threshold we set?\n# true_false_evolution(probs_logreg, thresholds_input = np.linspace(0,1,10))\n\n# How balanced is the distribution of the data labels, as if this is bad it might degrade the model:\n# probs_histogram(logreg_model)",
      "metadata": {
        "tags": [],
        "cell_id": "00022-85a66b71-619a-4dd4-8c48-7a60444b55ab",
        "deepnote_cell_type": "code"
      },
      "outputs": [],
      "execution_count": null
    },
    {
      "cell_type": "code",
      "source": "# dec tree\n# Extract feature importances\nimportance_tree = models_tree.best_estimator_._final_estimator.feature_importances_\ncoefficients_tree_dict = dict(zip(X.columns, importance_tree))\n# Colate graph data\nfeature_imp = pd.Series(importance_tree,index=X.columns).sort_values(ascending=False)\nsns.barplot(x=feature_imp, y=feature_imp.index)\n# Add labels to your graph\nplt.xlabel('Feature Importance Score')\nplt.ylabel('Features')\nplt.title(\"Visualizing Important Features\")\nplt.legend()\nplt.show()",
      "metadata": {
        "tags": [],
        "cell_id": "00023-5fbb2f3a-32f9-48f0-9276-2f3c0652ad2a",
        "deepnote_cell_type": "code"
      },
      "outputs": [],
      "execution_count": null
    },
    {
      "cell_type": "code",
      "source": "# dec tree\ncols = [\"param_decisiontreeclassifier__max_depth\", \"mean_test_score\", \"mean_train_score\"]\n\nscores_df = pd.DataFrame(models_tree.cv_results_).sort_values(\"param_decisiontreeclassifier__max_depth\")[cols]\n\nscores_df = pd.melt(scores_df, value_vars=['mean_test_score','mean_train_score'],\n                     id_vars=['param_decisiontreeclassifier__max_depth'], var_name = ['type'])\n\nsns.lineplot(data = scores_df, x='param_decisiontreeclassifier__max_depth', y = 'value', hue = 'type')\nplt.title('Tree Depth and Dataset Accuracy')\n\n#pd.DataFrame(models.cv_results_).sort_values(\"rank_test_score\")[[\"param_decisiontreeclassifier__max_depth\", \"mean_test_score\", \"std_test_score\"]].head()\n",
      "metadata": {
        "tags": [],
        "cell_id": "00024-34407290-f0a8-42b5-a948-f8862c265fc1",
        "deepnote_cell_type": "code"
      },
      "outputs": [],
      "execution_count": null
    },
    {
      "cell_type": "code",
      "source": "'''PLOT FOR RANDOM TREES '''\ncols = ['param_randomforestclassifier__max_depth', \"mean_test_score\", \"mean_train_score\"]\nscores_df = pd.DataFrame(models_tree_random.cv_results_).sort_values('param_randomforestclassifier__max_depth')[cols]\nscores_df = pd.melt(scores_df, value_vars=['mean_test_score','mean_train_score'],\n                     id_vars=['param_randomforestclassifier__max_depth'], var_name = ['type'])\n\nfig = plt.figure(figsize = (5,5))\nsns.lineplot(data = scores_df, x='param_randomforestclassifier__max_depth', y = 'value', hue = 'type')",
      "metadata": {
        "tags": [],
        "cell_id": "00025-1f693bbb-9db6-462c-9524-2830d8d4e861",
        "deepnote_cell_type": "code"
      },
      "outputs": [],
      "execution_count": null
    },
    {
      "cell_type": "markdown",
      "source": "<a style='text-decoration:none;line-height:16px;display:flex;color:#5B5B62;padding:10px;justify-content:end;' href='https://deepnote.com?utm_source=created-in-deepnote-cell&projectId=6d844b8b-c2b2-41b2-8d9c-38e9bb4a0873' target=\"_blank\">\n<img alt='Created in deepnote.com' style='display:inline;max-height:16px;margin:0px;margin-right:7.5px;' src='data:image/svg+xml;base64,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' > </img>\nCreated in <span style='font-weight:600;margin-left:4px;'>Deepnote</span></a>",
      "metadata": {
        "tags": [],
        "created_in_deepnote_cell": true,
        "deepnote_cell_type": "markdown"
      }
    }
  ],
  "nbformat": 4,
  "nbformat_minor": 2,
  "metadata": {
    "orig_nbformat": 2,
    "deepnote_notebook_id": "64ebe6df-c74a-4fab-89d1-85499ce5f79c",
    "deepnote": {},
    "deepnote_execution_queue": []
  }
}